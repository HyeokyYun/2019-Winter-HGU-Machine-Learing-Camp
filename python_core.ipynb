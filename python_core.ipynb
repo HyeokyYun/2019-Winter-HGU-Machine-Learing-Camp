{
  "nbformat": 4,
  "nbformat_minor": 0,
  "metadata": {
    "colab": {
      "name": "python_core.ipynb",
      "version": "0.3.2",
      "provenance": [],
      "collapsed_sections": [],
      "include_colab_link": true
    },
    "kernelspec": {
      "name": "python3",
      "display_name": "Python 3"
    }
  },
  "cells": [
    {
      "cell_type": "markdown",
      "metadata": {
        "id": "view-in-github",
        "colab_type": "text"
      },
      "source": [
        "<a href=\"https://colab.research.google.com/github/callee2006/2019-Winter-HGU-Machine-Learing-Camp/blob/master/python_core.ipynb\" target=\"_parent\"><img src=\"https://colab.research.google.com/assets/colab-badge.svg\" alt=\"Open In Colab\"/></a>"
      ]
    },
    {
      "metadata": {
        "id": "kfqNWrFEr2hd",
        "colab_type": "code",
        "colab": {}
      },
      "cell_type": "code",
      "source": [
        "import numpy as np"
      ],
      "execution_count": 0,
      "outputs": []
    },
    {
      "metadata": {
        "id": "p3GZN4NGslWM",
        "colab_type": "text"
      },
      "cell_type": "markdown",
      "source": [
        "# int and float types"
      ]
    },
    {
      "metadata": {
        "id": "xt4GL6DlofE7",
        "colab_type": "code",
        "outputId": "631d1bcf-2ec7-4428-9233-4013f088877b",
        "colab": {
          "base_uri": "https://localhost:8080/",
          "height": 35
        }
      },
      "cell_type": "code",
      "source": [
        "a = 5\n",
        "type(a)"
      ],
      "execution_count": 0,
      "outputs": [
        {
          "output_type": "execute_result",
          "data": {
            "text/plain": [
              "int"
            ]
          },
          "metadata": {
            "tags": []
          },
          "execution_count": 1
        }
      ]
    },
    {
      "metadata": {
        "id": "wk0NXRfbohxr",
        "colab_type": "code",
        "outputId": "6fa3812f-82c1-4b09-f737-c93e4da81e88",
        "colab": {
          "base_uri": "https://localhost:8080/",
          "height": 35
        }
      },
      "cell_type": "code",
      "source": [
        "a = 2.0\n",
        "type(a)"
      ],
      "execution_count": 0,
      "outputs": [
        {
          "output_type": "execute_result",
          "data": {
            "text/plain": [
              "float"
            ]
          },
          "metadata": {
            "tags": []
          },
          "execution_count": 2
        }
      ]
    },
    {
      "metadata": {
        "id": "Xt2TKs8Zsq2j",
        "colab_type": "text"
      },
      "cell_type": "markdown",
      "source": [
        "# for - Loop"
      ]
    },
    {
      "metadata": {
        "id": "J-IH-6sBooYn",
        "colab_type": "code",
        "outputId": "19b85c9f-26d9-4152-837f-d64852b68192",
        "colab": {
          "base_uri": "https://localhost:8080/",
          "height": 107
        }
      },
      "cell_type": "code",
      "source": [
        "# repeating 5 times\n",
        "for i in range(5):\n",
        "   print(\"i = \", i)"
      ],
      "execution_count": 0,
      "outputs": [
        {
          "output_type": "stream",
          "text": [
            "i =  0\n",
            "i =  1\n",
            "i =  2\n",
            "i =  3\n",
            "i =  4\n"
          ],
          "name": "stdout"
        }
      ]
    },
    {
      "metadata": {
        "id": "omN7_F-JrKf5",
        "colab_type": "code",
        "outputId": "40e9c4b0-28f8-447b-8293-391b6f0f305e",
        "colab": {
          "base_uri": "https://localhost:8080/",
          "height": 161
        }
      },
      "cell_type": "code",
      "source": [
        "# repeating from 20 to 200, stop = 10\n",
        "for i in range(20, 100, 10):         # start = 20, end = 100, step = 10\n",
        "   print(\"i = \", i)"
      ],
      "execution_count": 0,
      "outputs": [
        {
          "output_type": "stream",
          "text": [
            "i =  20\n",
            "i =  30\n",
            "i =  40\n",
            "i =  50\n",
            "i =  60\n",
            "i =  70\n",
            "i =  80\n",
            "i =  90\n"
          ],
          "name": "stdout"
        }
      ]
    },
    {
      "metadata": {
        "id": "mpYCCGcjvXgI",
        "colab_type": "text"
      },
      "cell_type": "markdown",
      "source": [
        "# Lists"
      ]
    },
    {
      "metadata": {
        "id": "wrQLfW1Cs8S1",
        "colab_type": "code",
        "outputId": "00d4326c-6544-4bf1-eb00-703e812781fb",
        "colab": {
          "base_uri": "https://localhost:8080/",
          "height": 35
        }
      },
      "cell_type": "code",
      "source": [
        "# creating a list\n",
        "a = [5,10,15,20,25,30,35,40]\n",
        "print(a)"
      ],
      "execution_count": 0,
      "outputs": [
        {
          "output_type": "stream",
          "text": [
            "[5, 10, 15, 20, 25, 30, 35, 40]\n"
          ],
          "name": "stdout"
        }
      ]
    },
    {
      "metadata": {
        "id": "HHrAvT7QvdZq",
        "colab_type": "code",
        "outputId": "36b68f7a-45c6-4077-d077-5414d1a43ef5",
        "colab": {
          "base_uri": "https://localhost:8080/",
          "height": 35
        }
      },
      "cell_type": "code",
      "source": [
        "# element access\n",
        "print(\"a[2] = \", a[2])"
      ],
      "execution_count": 0,
      "outputs": [
        {
          "output_type": "stream",
          "text": [
            "a[2] =  15\n"
          ],
          "name": "stdout"
        }
      ]
    },
    {
      "metadata": {
        "id": "gMEWuYgBo0dj",
        "colab_type": "code",
        "outputId": "92d5bdac-3f8d-4b8e-e00c-21e29222e0a3",
        "colab": {
          "base_uri": "https://localhost:8080/",
          "height": 35
        }
      },
      "cell_type": "code",
      "source": [
        "# slicing from 0 to 3 (exclusively)\n",
        "print(\"a[0:3] = \", a[0:3])"
      ],
      "execution_count": 0,
      "outputs": [
        {
          "output_type": "stream",
          "text": [
            "a[0:3] =  [5, 10, 15]\n"
          ],
          "name": "stdout"
        }
      ]
    },
    {
      "metadata": {
        "id": "W_HAWol8vV_s",
        "colab_type": "code",
        "outputId": "7a20b17a-56b8-4516-c953-608952ec5eec",
        "colab": {
          "base_uri": "https://localhost:8080/",
          "height": 35
        }
      },
      "cell_type": "code",
      "source": [
        "# slicing from 5 to the end of the list\n",
        "print(\"a[5:] = \", a[5:])"
      ],
      "execution_count": 0,
      "outputs": [
        {
          "output_type": "stream",
          "text": [
            "a[5:] =  [30, 35, 40]\n"
          ],
          "name": "stdout"
        }
      ]
    },
    {
      "metadata": {
        "id": "HCwwrT8Nsef3",
        "colab_type": "text"
      },
      "cell_type": "markdown",
      "source": [
        "# Function"
      ]
    },
    {
      "metadata": {
        "id": "42vld-6KpSqX",
        "colab_type": "code",
        "colab": {}
      },
      "cell_type": "code",
      "source": [
        "def is_even(x):\n",
        "   if x % 2 == 0:\n",
        "      return True\n",
        "   else:\n",
        "      return False"
      ],
      "execution_count": 0,
      "outputs": []
    },
    {
      "metadata": {
        "id": "_0Bee6LPsTVl",
        "colab_type": "code",
        "outputId": "f9bb2d44-3503-4cd6-9540-d5e399941038",
        "colab": {
          "base_uri": "https://localhost:8080/",
          "height": 53
        }
      },
      "cell_type": "code",
      "source": [
        "print(\"is_even(20) = {}\".format(is_even(20)))\n",
        "print(\"is_even(35) = {}\".format(is_even(35)))"
      ],
      "execution_count": 0,
      "outputs": [
        {
          "output_type": "stream",
          "text": [
            "is_even(20) = True\n",
            "is_even(35) = False\n"
          ],
          "name": "stdout"
        }
      ]
    },
    {
      "metadata": {
        "id": "Ev2rm5PHvnqh",
        "colab_type": "text"
      },
      "cell_type": "markdown",
      "source": [
        "# Class\n",
        "\n"
      ]
    },
    {
      "metadata": {
        "id": "OuEe_PMfschP",
        "colab_type": "code",
        "colab": {}
      },
      "cell_type": "code",
      "source": [
        "# defining a class\n",
        "class Hello:\n",
        "    def __init__(self, message):\n",
        "        self.mesg = message      \n",
        "      \n",
        "    def display(self):\n",
        "        print('=' * 20, end = '')\n",
        "        print(self.mesg, end = '')\n",
        "        print('=' * 20, end = '')\n",
        "        \n",
        "    def get_message(self):\n",
        "        return self.mesg"
      ],
      "execution_count": 0,
      "outputs": []
    },
    {
      "metadata": {
        "id": "w1FAgPbnwL8m",
        "colab_type": "code",
        "colab": {}
      },
      "cell_type": "code",
      "source": [
        "# creating a class object\n",
        "hello = Hello('nice to see you!')"
      ],
      "execution_count": 0,
      "outputs": []
    },
    {
      "metadata": {
        "id": "OINhVC65wTLc",
        "colab_type": "code",
        "outputId": "2899f03b-236e-4db3-9c17-97752c723194",
        "colab": {
          "base_uri": "https://localhost:8080/",
          "height": 35
        }
      },
      "cell_type": "code",
      "source": [
        "# calling methods\n",
        "hello.display()\n",
        "print(\"message = \", hello.get_message())"
      ],
      "execution_count": 0,
      "outputs": [
        {
          "output_type": "stream",
          "text": [
            "====================nice to see you!====================message =  nice to see you!\n"
          ],
          "name": "stdout"
        }
      ]
    },
    {
      "metadata": {
        "id": "h3xU6xSNwo6e",
        "colab_type": "code",
        "colab": {}
      },
      "cell_type": "code",
      "source": [
        ""
      ],
      "execution_count": 0,
      "outputs": []
    },
    {
      "metadata": {
        "id": "SiyKRh1fxMEk",
        "colab_type": "code",
        "colab": {}
      },
      "cell_type": "code",
      "source": [
        ""
      ],
      "execution_count": 0,
      "outputs": []
    }
  ]
}